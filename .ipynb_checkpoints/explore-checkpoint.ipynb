{
 "cells": [
  {
   "cell_type": "markdown",
   "metadata": {},
   "source": [
    "# Grey Literature Exploration"
   ]
  },
  {
   "cell_type": "code",
   "execution_count": 5,
   "metadata": {},
   "outputs": [],
   "source": [
    "from googlesearch import search\n",
    "from urllib.parse import urlparse\n",
    "f = open(\"/tmp/search.csv\", \"w+\")\n",
    "count = 0\n",
    "for i in search(query='\"word segmentation\" \"natural language processing\" nlp -chinese -urdu -thai -vietnamese -myanmar -khmer -arabic -jobs -tibetan -ad -medical -\"call for papers\"', stop=200):\n",
    "    count += 1\n",
    "    o = urlparse(i)\n",
    "    f.write(str(count)+'| '+str(i)+'|'+o.hostname+'|\\n')\n",
    "f.close()"
   ]
  },
  {
   "cell_type": "code",
   "execution_count": 6,
   "metadata": {},
   "outputs": [
    {
     "name": "stdout",
     "output_type": "stream",
     "text": [
      "127| http://conference.researchbib.com/view/event/103825|conference.researchbib.com|\n",
      "128| https://web.cs.dal.ca/~islam/research.html|web.cs.dal.ca|\n",
      "129| https://www.frameworktraining.co.uk/courses/data/big-data-and-data-science-training-courses/natural-language-processing-nlp-python-training-course/|www.frameworktraining.co.uk|\n",
      "130| https://opendatascience.com/nlp-with-nltk-part-2/|opendatascience.com|\n",
      "131| http://grandioseparlor.com/b3wf/soa3r.php?nal=gensim-word2vec-medium|grandioseparlor.com|\n",
      "132| https://carparkinc.com/j6f4f/x5kan.php?rb=gensim-word2vec-medium|carparkinc.com|\n",
      "133| https://hackernoon.com/smart-audit-using-ai-in-international-trade-21a7bb21b57f|hackernoon.com|\n",
      "134| http://demo.kzonetechnologies.com/wp-content/uploads/2019/09/liwdrnzit/lda-python-code.html|demo.kzonetechnologies.com|\n",
      "135| http://luccascloset.com/hlyq3/lda-python-code.html|luccascloset.com|\n",
      "136| http://marthaskou.com/1bphz3/lda-python-code.html|marthaskou.com|\n"
     ]
    }
   ],
   "source": [
    "%%bash\n",
    "tail /tmp/search.csv"
   ]
  },
  {
   "cell_type": "code",
   "execution_count": null,
   "metadata": {},
   "outputs": [],
   "source": []
  }
 ],
 "metadata": {
  "kernelspec": {
   "display_name": "Python 3",
   "language": "python",
   "name": "python3"
  },
  "language_info": {
   "codemirror_mode": {
    "name": "ipython",
    "version": 3
   },
   "file_extension": ".py",
   "mimetype": "text/x-python",
   "name": "python",
   "nbconvert_exporter": "python",
   "pygments_lexer": "ipython3",
   "version": "3.6.8"
  }
 },
 "nbformat": 4,
 "nbformat_minor": 2
}
