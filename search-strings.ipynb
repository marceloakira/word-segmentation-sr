{
 "cells": [
  {
   "cell_type": "markdown",
   "metadata": {},
   "source": [
    "# Search Report"
   ]
  },
  {
   "cell_type": "code",
   "execution_count": 5,
   "metadata": {},
   "outputs": [],
   "source": [
    "import json\n",
    "with open(\"resultados-busca.json\", \"r\") as read_file:\n",
    "    data = json.load(read_file)\n",
    "# print(data)"
   ]
  },
  {
   "cell_type": "code",
   "execution_count": 36,
   "metadata": {},
   "outputs": [],
   "source": [
    "keys =json.loads('''\n",
    "{\n",
    "    \"A1\": [\n",
    "        \"compound splitting\",\n",
    "        \"identifier splitting\",\n",
    "        \"compound splitters\"\n",
    "    ],\n",
    "    \"A2\": [\n",
    "        \"compound splitting\",\n",
    "        \"identifier splitting\"\n",
    "    ],\n",
    "    \"A3\": [\n",
    "        \"natural language processing\",\n",
    "        \"NLP\"\n",
    "    ],\n",
    "    \"A4\": [\n",
    "        \"segmentação\",\n",
    "        \"separação\",\n",
    "        \"segmentação lexical\",\n",
    "        \"processamento de palavras compostas\",\n",
    "        \"análise léxica\"\n",
    "    ],\n",
    "    \"A5\": [\n",
    "        \"processamento de linguagem natural\",\n",
    "        \"PLN\"\n",
    "    ],\n",
    "    \"A6\": [\n",
    "        \"palavras compostas\",\n",
    "        \"palavras coladas\",\n",
    "        \"palavras grudadas\"\n",
    "    ],\n",
    "    \"A7\": [\n",
    "        \"word segmentation\",\n",
    "        \"compound splitting\",\n",
    "        \"compound splitters\",\n",
    "        \"identifier splitting\",\n",
    "        \"hashtag decomposition\",\n",
    "        \"hashtag segmentation\"\n",
    "    ],\n",
    "    \"A8\": [\n",
    "        \"word segmentation\"\n",
    "    ],\n",
    "    \"A9\": [\n",
    "        \"segmentação de palavras\"\n",
    "    ],\n",
    "    \"A10\": [\n",
    "        \"natural language processing\",\n",
    "        \"nlp\"      \n",
    "    ],\n",
    "    \"B10\": [\n",
    "        \"processamento de linguagem natural\",\n",
    "        \"nlp\",\n",
    "        \"pln\"\n",
    "    ]\n",
    "}\n",
    "''')\n",
    "# data['keys']\n",
    "# print(json.dumps(keys, indent=4))"
   ]
  },
  {
   "cell_type": "code",
   "execution_count": 15,
   "metadata": {},
   "outputs": [],
   "source": [
    "restrictions = data['restrictions']\n",
    "# print(json.dumps(restrictions, indent=4))"
   ]
  },
  {
   "cell_type": "code",
   "execution_count": 19,
   "metadata": {},
   "outputs": [],
   "source": [
    "filters = data['filters']\n",
    "# print(json.dumps(filters, indent=4))"
   ]
  },
  {
   "cell_type": "code",
   "execution_count": 24,
   "metadata": {},
   "outputs": [],
   "source": [
    "grey_literaturate = data['grey literature']\n",
    "# print(json.dumps(grey_literaturate, indent=4))"
   ]
  },
  {
   "cell_type": "code",
   "execution_count": 26,
   "metadata": {},
   "outputs": [],
   "source": [
    "searchs = data['searchs']\n",
    "# print(json.dumps(searchs, indent=4))"
   ]
  },
  {
   "cell_type": "code",
   "execution_count": 29,
   "metadata": {},
   "outputs": [
    {
     "name": "stdout",
     "output_type": "stream",
     "text": [
      "A1 A2\n"
     ]
    }
   ],
   "source": [
    "skeys='A1 A2'\n",
    "srestrictions='R1 R2'\n",
    "sfilters=''\n",
    "search_input=(skeys, srestrictions, sfilters)\n",
    "def gen_search_string(si):\n",
    "    print(si[0])\n",
    "gen_search_string(search_input)"
   ]
  },
  {
   "cell_type": "code",
   "execution_count": 1,
   "metadata": {},
   "outputs": [],
   "source": [
    "from bs4 import BeautifulSoup\n",
    "import requests\n",
    "import re\n",
    "import delegator\n",
    "\n",
    "def gen_arxiv_bib(url):\n",
    "    r = requests.get(url)\n",
    "    soup = BeautifulSoup(r.content, 'html.parser')\n",
    "    t = soup.get_text()\n",
    "    refs = re.findall(r\"arXiv:.*\", t)\n",
    "    f = open('/tmp/arxiv.bib', 'w+')\n",
    "    for r in refs:\n",
    "        id = r.split(':')[1]\n",
    "        # arxivcheck from https://github.com/bibcure/bibcure\n",
    "        c = delegator.run('arxivcheck '+id)\n",
    "        f.write(c.out)\n",
    "    f.close()\n",
    "\n",
    "url = 'https://arxiv.org/search/advanced?advanced=&terms-0-term=%22word+segmentation%22&terms-0-operator=AND&terms-0-field=all&terms-1-term=chinese&terms-1-operator=NOT&terms-1-field=title&terms-2-term=arabic&terms-2-operator=NOT&terms-2-field=title&terms-3-term=japanese&terms-3-operator=NOT&terms-3-field=title&terms-4-term=infant&terms-4-operator=NOT&terms-4-field=title&terms-5-term=sanskrit&terms-5-operator=NOT&terms-5-field=title&terms-6-term=tang&terms-6-operator=NOT&terms-6-field=title&terms-7-term=vietnamese&terms-7-operator=NOT&terms-7-field=title&terms-8-term=khmer&terms-8-operator=NOT&terms-8-field=title&terms-9-term=tibetan&terms-9-operator=NOT&terms-9-field=title&terms-10-term=handwritten&terms-10-operator=NOT&terms-10-field=title&terms-11-term=acoustic&terms-11-operator=NOT&terms-11-field=title&terms-12-term=spoken&terms-12-operator=NOT&terms-12-field=title&terms-13-term=mandarin&terms-13-operator=NOT&terms-13-field=title&classification-computer_science=y&classification-physics_archives=all&classification-include_cross_list=include&date-filter_by=all_dates&date-year=&date-from_date=&date-to_date=&date-date_type=submitted_date&abstracts=show&size=100&order=-announced_date_first'\n",
    "# gen_arxiv_bib(url)"
   ]
  }
 ],
 "metadata": {
  "kernelspec": {
   "display_name": "Python 3",
   "language": "python",
   "name": "python3"
  },
  "language_info": {
   "codemirror_mode": {
    "name": "ipython",
    "version": 3
   },
   "file_extension": ".py",
   "mimetype": "text/x-python",
   "name": "python",
   "nbconvert_exporter": "python",
   "pygments_lexer": "ipython3",
   "version": "3.6.8"
  }
 },
 "nbformat": 4,
 "nbformat_minor": 2
}
