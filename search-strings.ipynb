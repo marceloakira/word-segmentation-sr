{
 "cells": [
  {
   "cell_type": "markdown",
   "metadata": {},
   "source": [
    "# Search Report"
   ]
  },
  {
   "cell_type": "code",
   "execution_count": 5,
   "metadata": {},
   "outputs": [],
   "source": [
    "import json\n",
    "with open(\"resultados-busca.json\", \"r\") as read_file:\n",
    "    data = json.load(read_file)\n",
    "# print(data)"
   ]
  },
  {
   "cell_type": "code",
   "execution_count": 36,
   "metadata": {},
   "outputs": [],
   "source": [
    "keys =json.loads('''\n",
    "{\n",
    "    \"A1\": [\n",
    "        \"compound splitting\",\n",
    "        \"identifier splitting\",\n",
    "        \"compound splitters\"\n",
    "    ],\n",
    "    \"A2\": [\n",
    "        \"compound splitting\",\n",
    "        \"identifier splitting\"\n",
    "    ],\n",
    "    \"A3\": [\n",
    "        \"natural language processing\",\n",
    "        \"NLP\"\n",
    "    ],\n",
    "    \"A4\": [\n",
    "        \"segmentação\",\n",
    "        \"separação\",\n",
    "        \"segmentação lexical\",\n",
    "        \"processamento de palavras compostas\",\n",
    "        \"análise léxica\"\n",
    "    ],\n",
    "    \"A5\": [\n",
    "        \"processamento de linguagem natural\",\n",
    "        \"PLN\"\n",
    "    ],\n",
    "    \"A6\": [\n",
    "        \"palavras compostas\",\n",
    "        \"palavras coladas\",\n",
    "        \"palavras grudadas\"\n",
    "    ],\n",
    "    \"A7\": [\n",
    "        \"word segmentation\",\n",
    "        \"compound splitting\",\n",
    "        \"compound splitters\",\n",
    "        \"identifier splitting\",\n",
    "        \"hashtag decomposition\",\n",
    "        \"hashtag segmentation\"\n",
    "    ],\n",
    "    \"A8\": [\n",
    "        \"word segmentation\"\n",
    "    ],\n",
    "    \"A9\": [\n",
    "        \"segmentação de palavras\"\n",
    "    ],\n",
    "    \"A10\": [\n",
    "        \"natural language processing\",\n",
    "        \"nlp\"      \n",
    "    ],\n",
    "    \"B10\": [\n",
    "        \"processamento de linguagem natural\",\n",
    "        \"nlp\",\n",
    "        \"pln\"\n",
    "    ]\n",
    "}\n",
    "''')\n",
    "# data['keys']\n",
    "# print(json.dumps(keys, indent=4))"
   ]
  },
  {
   "cell_type": "code",
   "execution_count": 15,
   "metadata": {},
   "outputs": [],
   "source": [
    "restrictions = data['restrictions']\n",
    "# print(json.dumps(restrictions, indent=4))"
   ]
  },
  {
   "cell_type": "code",
   "execution_count": 19,
   "metadata": {},
   "outputs": [],
   "source": [
    "filters = data['filters']\n",
    "# print(json.dumps(filters, indent=4))"
   ]
  },
  {
   "cell_type": "code",
   "execution_count": 24,
   "metadata": {},
   "outputs": [],
   "source": [
    "grey_literaturate = data['grey literature']\n",
    "# print(json.dumps(grey_literaturate, indent=4))"
   ]
  },
  {
   "cell_type": "code",
   "execution_count": 26,
   "metadata": {},
   "outputs": [],
   "source": [
    "searchs = data['searchs']\n",
    "# print(json.dumps(searchs, indent=4))"
   ]
  },
  {
   "cell_type": "code",
   "execution_count": 29,
   "metadata": {},
   "outputs": [
    {
     "name": "stdout",
     "output_type": "stream",
     "text": [
      "A1 A2\n"
     ]
    }
   ],
   "source": [
    "skeys='A1 A2'\n",
    "srestrictions='R1 R2'\n",
    "sfilters=''\n",
    "search_input=(skeys, srestrictions, sfilters)\n",
    "def gen_search_string(si):\n",
    "    print(si[0])\n",
    "gen_search_string(search_input)"
   ]
  }
 ],
 "metadata": {
  "kernelspec": {
   "display_name": "Python 3",
   "language": "python",
   "name": "python3"
  },
  "language_info": {
   "codemirror_mode": {
    "name": "ipython",
    "version": 3
   },
   "file_extension": ".py",
   "mimetype": "text/x-python",
   "name": "python",
   "nbconvert_exporter": "python",
   "pygments_lexer": "ipython3",
   "version": "3.6.8"
  }
 },
 "nbformat": 4,
 "nbformat_minor": 2
}
